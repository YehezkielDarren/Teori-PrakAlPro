{
 "cells": [
  {
   "cell_type": "markdown",
   "metadata": {},
   "source": [
    "1. Bil Prima Terdekat"
   ]
  },
  {
   "cell_type": "code",
   "execution_count": 1,
   "metadata": {},
   "outputs": [
    {
     "name": "stdout",
     "output_type": "stream",
     "text": [
      "Bilangan prima terdekat dari 15 adalah 13\n"
     ]
    }
   ],
   "source": [
    "def prime():\n",
    "    _target=int(input(\"Insert One Number : \"))\n",
    "    if _target <3:\n",
    "        print(f\"Tidak ada bilangan prima terdekat dari {_target}\")\n",
    "    else:\n",
    "        for i in range(_target-1,0,-1):\n",
    "            for j in range(2,i-1):\n",
    "                if i%j==0:\n",
    "                    break\n",
    "            else:\n",
    "                print(f\"Bilangan prima terdekat dari {_target} adalah {i}\")\n",
    "                break\n",
    "                \n",
    "prime()"
   ]
  },
  {
   "cell_type": "markdown",
   "metadata": {},
   "source": [
    "2. Segitiga Faktorial"
   ]
  },
  {
   "cell_type": "code",
   "execution_count": 19,
   "metadata": {},
   "outputs": [
    {
     "name": "stdout",
     "output_type": "stream",
     "text": [
      "2432902008176640000 20 19 18 17 16 15 14 13 12 11 10 9 8 7 6 5 4 3 2 1\n",
      "121645100408832000 19 18 17 16 15 14 13 12 11 10 9 8 7 6 5 4 3 2 1\n",
      "6402373705728000 18 17 16 15 14 13 12 11 10 9 8 7 6 5 4 3 2 1\n",
      "355687428096000 17 16 15 14 13 12 11 10 9 8 7 6 5 4 3 2 1\n",
      "20922789888000 16 15 14 13 12 11 10 9 8 7 6 5 4 3 2 1\n",
      "1307674368000 15 14 13 12 11 10 9 8 7 6 5 4 3 2 1\n",
      "87178291200 14 13 12 11 10 9 8 7 6 5 4 3 2 1\n",
      "6227020800 13 12 11 10 9 8 7 6 5 4 3 2 1\n",
      "479001600 12 11 10 9 8 7 6 5 4 3 2 1\n",
      "39916800 11 10 9 8 7 6 5 4 3 2 1\n",
      "3628800 10 9 8 7 6 5 4 3 2 1\n",
      "362880 9 8 7 6 5 4 3 2 1\n",
      "40320 8 7 6 5 4 3 2 1\n",
      "5040 7 6 5 4 3 2 1\n",
      "720 6 5 4 3 2 1\n",
      "120 5 4 3 2 1\n",
      "24 4 3 2 1\n",
      "6 3 2 1\n",
      "2 2 1\n",
      "1 1\n"
     ]
    }
   ],
   "source": [
    "def TriFaktorial():\n",
    "    n=int(input(\"Input number of integer : \"))\n",
    "    for i in range(n, 0,-1):\n",
    "        temp=[]\n",
    "        faktorial=1\n",
    "        for j in range(i, 0, -1):\n",
    "            faktorial*=j\n",
    "            temp.append(j)\n",
    "        print(faktorial, *temp)\n",
    "        \n",
    "TriFaktorial()\n",
    "        \n",
    "    \n",
    "        "
   ]
  },
  {
   "cell_type": "markdown",
   "metadata": {},
   "source": [
    "3. Deret Kotak"
   ]
  },
  {
   "cell_type": "code",
   "execution_count": 16,
   "metadata": {},
   "outputs": [
    {
     "name": "stdout",
     "output_type": "stream",
     "text": [
      "1 2 3 4 \n",
      "5 6 7 8 \n",
      "9 10 11 12 \n",
      "13 14 15 16 \n",
      "17 18 19 20 \n"
     ]
    }
   ],
   "source": [
    "def kotak():\n",
    "    pjg=int(input(\"Insert height : \"))\n",
    "    lbar=int(input(\"Insert width : \"))\n",
    "    index=1\n",
    "    for _ in range(1,pjg+1):\n",
    "        for _ in range(1,lbar+1):\n",
    "            print(index, end=\" \")\n",
    "            index+=1    \n",
    "        print()\n",
    "kotak()"
   ]
  }
 ],
 "metadata": {
  "kernelspec": {
   "display_name": "Python 3",
   "language": "python",
   "name": "python3"
  },
  "language_info": {
   "codemirror_mode": {
    "name": "ipython",
    "version": 3
   },
   "file_extension": ".py",
   "mimetype": "text/x-python",
   "name": "python",
   "nbconvert_exporter": "python",
   "pygments_lexer": "ipython3",
   "version": "3.11.1"
  }
 },
 "nbformat": 4,
 "nbformat_minor": 2
}
