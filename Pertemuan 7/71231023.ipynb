{
 "cells": [
  {
   "cell_type": "markdown",
   "metadata": {},
   "source": [
    "Latihan 1"
   ]
  },
  {
   "cell_type": "code",
   "execution_count": 23,
   "metadata": {},
   "outputs": [
    {
     "name": "stdout",
     "output_type": "stream",
     "text": [
      "mata adalah anagram dari atam\n"
     ]
    }
   ],
   "source": [
    "def anagram()-> None:\n",
    "    first_word=input(\"masukkan kata pertama : \").lower() #input : mata\n",
    "    sec_word=input(\"masukkan kata kedua : \").lower() #input : tama\n",
    "    for i in first_word:\n",
    "        for j in sec_word:\n",
    "            if i==j:\n",
    "                break\n",
    "        else:\n",
    "            print(f\"{first_word} adalah bukan anagram dari {sec_word}\")\n",
    "            break\n",
    "    else:\n",
    "        print(f\"{first_word} adalah anagram dari {sec_word}\")\n",
    "        \n",
    "anagram()"
   ]
  },
  {
   "cell_type": "markdown",
   "metadata": {},
   "source": [
    "Latihan 2"
   ]
  },
  {
   "cell_type": "code",
   "execution_count": 9,
   "metadata": {},
   "outputs": [
    {
     "name": "stdout",
     "output_type": "stream",
     "text": [
      "Kalimat Awal : 'Saya mau makan. Makan itu wajib. Mau siang atau malam saya wajib makan'\n",
      "Kata 'sa' muncul sebanyak 2\n"
     ]
    }
   ],
   "source": [
    "def kemunculan_kata(lst :list, kata:str)->int:\n",
    "    lst=lst.lower()\n",
    "    pencarian=lst.split()\n",
    "    hasil=0\n",
    "    for i in pencarian:\n",
    "        if kata in i:\n",
    "            hasil+=1\n",
    "    \n",
    "    return hasil\n",
    "\n",
    "\n",
    "kalimat=input(\"masukkan sebuah paragraf : \") #Saya mau makan. Makan itu wajib. Mau siang atau malam saya wajib makan\n",
    "kata_yang_dicari=input(\"apa kata yang ingin dicari ? \").lower() #makan\n",
    "\n",
    "print(f\"Kalimat Awal : '{kalimat}'\")\n",
    "print(f\"Kata '{kata_yang_dicari}' muncul sebanyak {kemunculan_kata(kalimat,kata_yang_dicari)}\")"
   ]
  },
  {
   "cell_type": "markdown",
   "metadata": {},
   "source": [
    "Latihan 3"
   ]
  },
  {
   "cell_type": "code",
   "execution_count": 1,
   "metadata": {},
   "outputs": [
    {
     "name": "stdout",
     "output_type": "stream",
     "text": [
      "A brown fox bruh .\n"
     ]
    }
   ],
   "source": [
    "def spasi_Normal(kata :str)-> None:\n",
    "    kata1=kata.split()\n",
    "    storage=[]\n",
    "    for i in kata1:\n",
    "        storage.append(i)\n",
    "    print(*storage)\n",
    "\n",
    "sebuah_kata=input(\"masukkan sebuah kalimat : \")\n",
    "print(f\"Kalimat awal : '{sebuah_kata}'\")\n",
    "spasi_Normal(sebuah_kata)"
   ]
  },
  {
   "cell_type": "markdown",
   "metadata": {},
   "source": [
    "Latihan 4"
   ]
  },
  {
   "cell_type": "code",
   "execution_count": 33,
   "metadata": {},
   "outputs": [
    {
     "name": "stdout",
     "output_type": "stream",
     "text": [
      "Kata anda : 'Dimana ayam itu?'\n",
      "Kata terpendek adalah 'itu'\n",
      "Kata terpanjang adalah 'Dimana'\n"
     ]
    }
   ],
   "source": [
    "def shortest_longest(kata : str)-> str:\n",
    "    kata=kata.split() #parsing string tiap spasi\n",
    "    kata_terpendek=kata[0] \n",
    "    kata_terpanjang=kata[0]\n",
    "    for i  in kata:\n",
    "        temp_word=\"\".join(x for x in i if x.isalnum()) #hanya mengambil huruf atau angka, selain itu tidak diambil\n",
    "        if len(temp_word)<len(kata_terpendek):\n",
    "            kata_terpendek=temp_word\n",
    "        elif len(temp_word)>len(kata_terpanjang):\n",
    "            kata_terpanjang=temp_word\n",
    "    return kata_terpendek,kata_terpanjang\n",
    "            \n",
    "        \n",
    "\n",
    "kata_inputan=input(\"masukkan sebuah kalimat : \")\n",
    "print(f\"Kata anda : '{kata_inputan}'\")\n",
    "short, long=shortest_longest(kata_inputan)\n",
    "print(f\"Kata terpendek adalah '{short}'\")\n",
    "print(f\"Kata terpanjang adalah '{long}'\")\n"
   ]
  }
 ],
 "metadata": {
  "kernelspec": {
   "display_name": "Python 3",
   "language": "python",
   "name": "python3"
  },
  "language_info": {
   "codemirror_mode": {
    "name": "ipython",
    "version": 3
   },
   "file_extension": ".py",
   "mimetype": "text/x-python",
   "name": "python",
   "nbconvert_exporter": "python",
   "pygments_lexer": "ipython3",
   "version": "3.11.1"
  }
 },
 "nbformat": 4,
 "nbformat_minor": 2
}
