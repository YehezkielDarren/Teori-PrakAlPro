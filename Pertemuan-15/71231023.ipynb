{
 "cells": [
  {
   "cell_type": "markdown",
   "metadata": {},
   "source": [
    "14.1. Latihan Mandiri"
   ]
  },
  {
   "cell_type": "code",
   "execution_count": null,
   "metadata": {},
   "outputs": [],
   "source": []
  },
  {
   "cell_type": "markdown",
   "metadata": {},
   "source": [
    "14.2 Latihan Mandiri"
   ]
  },
  {
   "cell_type": "code",
   "execution_count": 4,
   "metadata": {},
   "outputs": [
    {
     "name": "stdout",
     "output_type": "stream",
     "text": [
      "anton@mail.com username : anton, password : u99gKDfT\n",
      "budi@gmail.co.id username : budi, password : dgySipor\n",
      "slamet@getnada.com username : slamet, password : SmnOskXp\n",
      "matahari@tokopedia.com username : matahari, password : svq8vZnd\n",
      "john.doe123@gmail.com username : john, password : TdwrsEwO\n",
      "jane.smith456@yahoo.com username : jane, password : ucIMEZWG\n",
      "mike.johnson789@outlook.com username : mike, password : 3K3xI1Sp\n",
      "emma.watson111@gmail.com username : emma, password : x2QKGiXO\n",
      "james.bond222@yahoo.com username : james, password : VB9T0xs7\n",
      "sophia.loren333@outlook.com username : sophia, password : L9Hdbfzf\n",
      "william.shakespeare444@gmail.com username : william, password : uHrrlDSb\n",
      "marilyn.monroe555@yahoo.com username : marilyn, password : jOitwXcQ\n",
      "albert.einstein666@outlook.com username : albert, password : dSM0qK1N\n",
      "da.vinci777@gmail.com username : da, password : WsWqizrt\n",
      "michelangelo.buonarroti888@yahoo.com username : michelangelo, password : V8ETYZve\n",
      "galileo.galilei999@outlook.com username : galileo, password : utwOPiCs\n",
      "isaac.newton1111@gmail.com username : isaac, password : rnK5hj0I\n",
      "charles.darwin2222@yahoo.com username : charles, password : IHBfKfFk\n",
      "nikola.tesla3333@outlook.com username : nikola, password : lDMio5Ab\n",
      "thomas.edison4444@gmail.com username : thomas, password : rH6LDTvm\n",
      "benjamin.franklin5555@yahoo.com username : benjamin, password : 056qAd5k\n",
      "george.washington6666@outlook.com username : george, password : gC6NgrLn\n",
      "abraham.lincoln7777@gmail.com username : abraham, password : acZJsWGb\n",
      "luther.king8888@yahoo.com username : luther, password : bPEv0fwD\n"
     ]
    }
   ],
   "source": [
    "import re,string,random\n",
    "\n",
    "def getEmail(line):\n",
    "    return re.findall(\"\\w+\\.*\\w*@\\w+[\\.\\w]{0,}\",line)\n",
    "\n",
    "def generatePassword():\n",
    "    while True:\n",
    "        passwrod=\"\".join(random.choice(string.ascii_letters+string.digits) for i in range(8))\n",
    "        if re.search(r\"^(.*[a-z])?(.*[A-Z])?(.*\\d)?[a-zA-Z\\d]{8,}$\",passwrod) :\n",
    "            break\n",
    "    return passwrod\n",
    "\n",
    "def main():\n",
    "    fileName=input(\"masukkan nama file :\")\n",
    "    with open(fileName) as f:\n",
    "        handle=f.readlines()\n",
    "    for line in handle:\n",
    "        email=getEmail(line)\n",
    "        if email!=[]:\n",
    "            email=email[0]\n",
    "            username=re.findall(\"^(\\w+)\",email)[0]\n",
    "            pw=generatePassword()\n",
    "            print(f\"{email} username : {username}, password : {pw}\")\n",
    "    \n",
    "main()"
   ]
  }
 ],
 "metadata": {
  "kernelspec": {
   "display_name": "Python 3",
   "language": "python",
   "name": "python3"
  },
  "language_info": {
   "codemirror_mode": {
    "name": "ipython",
    "version": 3
   },
   "file_extension": ".py",
   "mimetype": "text/x-python",
   "name": "python",
   "nbconvert_exporter": "python",
   "pygments_lexer": "ipython3",
   "version": "3.11.1"
  }
 },
 "nbformat": 4,
 "nbformat_minor": 2
}
