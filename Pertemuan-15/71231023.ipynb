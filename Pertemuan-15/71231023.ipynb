{
 "cells": [
  {
   "cell_type": "markdown",
   "metadata": {},
   "source": [
    "14.1. Latihan Mandiri"
   ]
  },
  {
   "cell_type": "code",
   "execution_count": 25,
   "metadata": {},
   "outputs": [
    {
     "name": "stdout",
     "output_type": "stream",
     "text": [
      "Tanggal sekarang : 2024-06-01\n",
      "17-08-1945 selisih 28778 hari\n",
      "11-11-1785 selisih 87130 hari\n",
      "08-06-1783 selisih 88017 hari\n",
      "02-05-1889 selisih 49338 hari\n"
     ]
    }
   ],
   "source": [
    "import re,datetime\n",
    "namaFile=input(\"masukkan nama file : \")\n",
    "try:\n",
    "    openFile=open(namaFile).read()\n",
    "except:\n",
    "    print(\"File tidak ditemukan : \",namaFile)\n",
    "tanggal_teks=re.findall(\"(\\d{4})-(\\d{2})-(\\d{2})\",openFile)\n",
    "tanggal_sekarang=datetime.date.today()\n",
    "print(f\"Tanggal sekarang : {tanggal_sekarang}\")\n",
    "for tahun,bulan,tanggal in tanggal_teks:\n",
    "    diff_days= (tanggal_sekarang-datetime.date(int(tahun),int(bulan),int(tanggal))).days\n",
    "    print(f\"{tanggal}-{bulan}-{tahun} selisih {diff_days} hari\")\n"
   ]
  },
  {
   "cell_type": "markdown",
   "metadata": {},
   "source": [
    "14.2 Latihan Mandiri"
   ]
  },
  {
   "cell_type": "code",
   "execution_count": 28,
   "metadata": {},
   "outputs": [
    {
     "name": "stdout",
     "output_type": "stream",
     "text": [
      "anton@mail.com username : anton, password : hAxQxiVo\n",
      "budi@gmail.co.id username : budi, password : xtkFjJxY\n",
      "slamet@getnada.com username : slamet, password : fX6j32HE\n",
      "matahari@tokopedia.com username : matahari, password : knwIlXqR\n",
      "john.doe123@gmail.com username : john, password : J7YEqfUN\n",
      "jane.smith456@yahoo.com username : jane, password : SDlaxOcW\n",
      "mike.johnson789@outlook.com username : mike, password : L8Wf53B1\n",
      "emma.watson111@gmail.com username : emma, password : bgPrSLNq\n",
      "james.bond222@yahoo.com username : james, password : oxuCiVBu\n",
      "sophia.loren333@outlook.com username : sophia, password : 69S2m6FV\n",
      "william.shakespeare444@gmail.com username : william, password : T6cmYx9j\n",
      "marilyn.monroe555@yahoo.com username : marilyn, password : YVbHyOh6\n",
      "albert.einstein666@outlook.com username : albert, password : YBaLt3IJ\n",
      "da.vinci777@gmail.com username : da, password : 5Q91K620\n",
      "michelangelo.buonarroti888@yahoo.com username : michelangelo, password : 54MG12oN\n",
      "galileo.galilei999@outlook.com username : galileo, password : JJKj5NMt\n",
      "isaac.newton1111@gmail.com username : isaac, password : dcfhJnXt\n",
      "charles.darwin2222@yahoo.com username : charles, password : aohImxcz\n",
      "nikola.tesla3333@outlook.com username : nikola, password : 28U4HgRE\n",
      "thomas.edison4444@gmail.com username : thomas, password : ieSHWj2n\n",
      "benjamin.franklin5555@yahoo.com username : benjamin, password : AFOCRizU\n",
      "george.washington6666@outlook.com username : george, password : YtiffC9m\n",
      "abraham.lincoln7777@gmail.com username : abraham, password : XCOYzLxI\n",
      "luther.king8888@yahoo.com username : luther, password : koNMsic2\n"
     ]
    }
   ],
   "source": [
    "import re,string,random\n",
    "\n",
    "def getEmail(line):\n",
    "    return re.findall(\"\\w+\\.*\\w*@\\w+[\\.\\w]{0,}\",line)\n",
    "\n",
    "def generatePassword():\n",
    "    while True:\n",
    "        passwrod=\"\".join(random.choice(string.ascii_letters+string.digits) for i in range(8))\n",
    "        if re.search(r\"^(.*[a-z])?(.*[A-Z])?(.*\\d)?[a-zA-Z\\d]{8,}$\",passwrod) :\n",
    "            break\n",
    "    return passwrod\n",
    "\n",
    "def main():\n",
    "    fileName=input(\"masukkan nama file :\")\n",
    "    handle=open(fileName).read()\n",
    "    emails=getEmail(handle)\n",
    "    for email in emails:\n",
    "        pw=generatePassword()\n",
    "        username=re.findall(\"^\\w+\",email)[0]\n",
    "        print(f\"{email} username : {username}, password : {pw}\")\n",
    "    \n",
    "main()"
   ]
  }
 ],
 "metadata": {
  "kernelspec": {
   "display_name": "Python 3",
   "language": "python",
   "name": "python3"
  },
  "language_info": {
   "codemirror_mode": {
    "name": "ipython",
    "version": 3
   },
   "file_extension": ".py",
   "mimetype": "text/x-python",
   "name": "python",
   "nbconvert_exporter": "python",
   "pygments_lexer": "ipython3",
   "version": "3.11.1"
  }
 },
 "nbformat": 4,
 "nbformat_minor": 2
}
