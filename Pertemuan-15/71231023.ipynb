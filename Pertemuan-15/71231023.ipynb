{
 "cells": [
  {
   "cell_type": "markdown",
   "metadata": {},
   "source": [
    "14.1. Latihan Mandiri"
   ]
  },
  {
   "cell_type": "code",
   "execution_count": 25,
   "metadata": {},
   "outputs": [
    {
     "name": "stdout",
     "output_type": "stream",
     "text": [
      "Tanggal sekarang : 2024-06-01\n",
      "17-08-1945 selisih 28778 hari\n",
      "11-11-1785 selisih 87130 hari\n",
      "08-06-1783 selisih 88017 hari\n",
      "02-05-1889 selisih 49338 hari\n"
     ]
    }
   ],
   "source": [
    "import re,datetime\n",
    "namaFile=input(\"masukkan nama file : \")\n",
    "try:\n",
    "    openFile=open(namaFile).read()\n",
    "except:\n",
    "    print(\"File tidak ditemukan : \",namaFile)\n",
    "tanggal_teks=re.findall(\"(\\d{4})-(\\d{2})-(\\d{2})\",openFile)\n",
    "tanggal_sekarang=datetime.date.today()\n",
    "print(f\"Tanggal sekarang : {tanggal_sekarang}\")\n",
    "for tahun,bulan,tanggal in tanggal_teks:\n",
    "    diff_days= (tanggal_sekarang-datetime.date(int(tahun),int(bulan),int(tanggal))).days\n",
    "    print(f\"{tanggal}-{bulan}-{tahun} selisih {diff_days} hari\")\n"
   ]
  },
  {
   "cell_type": "markdown",
   "metadata": {},
   "source": [
    "14.2 Latihan Mandiri"
   ]
  },
  {
   "cell_type": "code",
   "execution_count": 39,
   "metadata": {},
   "outputs": [
    {
     "name": "stdout",
     "output_type": "stream",
     "text": [
      "anton@mail.com username : anton, password : MmkMtu4d\n",
      "budi@gmail.co.id username : budi, password : fQJXnIWX\n",
      "slamet@getnada.com username : slamet, password : XO8fg7tm\n",
      "matahari@tokopedia.com username : matahari, password : HYy3btZX\n",
      "john.doe123@gmail.com username : john, password : mRxZlbMm\n",
      "jane.smith456@yahoo.com username : jane, password : kchSQ2lA\n",
      "mike.johnson789@outlook.com username : mike, password : ngXOxELu\n",
      "emma.watson111@gmail.com username : emma, password : UruoI0P1\n",
      "james.bond222@yahoo.com username : james, password : WCTfgAhT\n",
      "sophia.loren333@outlook.com username : sophia, password : i85tkEo8\n",
      "william.shakespeare444@gmail.com username : william, password : fMFMgmSI\n",
      "marilyn.monroe555@yahoo.com username : marilyn, password : 5RoLL8cU\n",
      "albert.einstein666@outlook.com username : albert, password : dm1aRm6x\n",
      "leonardo.da.vinci777@gmail.com username : leonardo, password : 4wVBLopp\n"
     ]
    }
   ],
   "source": [
    "import re,string,random\n",
    "def generatePassword():\n",
    "    while True:\n",
    "        passwrod=\"\".join(random.choice(string.ascii_letters+string.digits) for i in range(8))\n",
    "        if re.search(r\"^([a-z]*)?([A-Z]*)?(\\d*)?[a-zA-Z\\d]{8,}$\",passwrod) :\n",
    "            break\n",
    "    return passwrod\n",
    "\n",
    "def main():\n",
    "    fileName=input(\"masukkan nama file :\")\n",
    "    handle=open(fileName).read()\n",
    "    emails=re.findall(\"[\\w+\\.]{1,}@\\w+[\\.\\w]{0,}\",handle)\n",
    "    for email in emails:\n",
    "        pw=generatePassword()\n",
    "        username=re.search(r\"^([aA-zZ]+)\",email)\n",
    "        print(f\"{email} username : {username.group()}, password : {pw}\")\n",
    "    \n",
    "main()"
   ]
  }
 ],
 "metadata": {
  "kernelspec": {
   "display_name": "Python 3",
   "language": "python",
   "name": "python3"
  },
  "language_info": {
   "codemirror_mode": {
    "name": "ipython",
    "version": 3
   },
   "file_extension": ".py",
   "mimetype": "text/x-python",
   "name": "python",
   "nbconvert_exporter": "python",
   "pygments_lexer": "ipython3",
   "version": "3.11.1"
  }
 },
 "nbformat": 4,
 "nbformat_minor": 2
}
