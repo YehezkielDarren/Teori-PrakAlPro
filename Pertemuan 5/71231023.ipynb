{
 "cells": [
  {
   "cell_type": "code",
   "execution_count": 7,
   "metadata": {},
   "outputs": [
    {
     "name": "stdout",
     "output_type": "stream",
     "text": [
      "6 x 5 = 5 + 5 + 5 + 5 + 5 + 5 = 30\n",
      "7 x 10 = 10 + 10 + 10 + 10 + 10 + 10 + 10 = 70\n",
      "7 x 5 = 5 + 5 + 5 + 5 + 5 + 5 + 5 = 35\n"
     ]
    }
   ],
   "source": [
    "#program perkalian\n",
    "def perkalian(iterator, number):\n",
    "    jumlah=0\n",
    "    for _ in range(iterator):\n",
    "        jumlah+=number\n",
    "    return (f\"{iterator} x {number} = {f'{number} + ' * (iterator-1)}{number} = {jumlah}\")\n",
    "#input form\n",
    "itr =int(input(\"Insert an iterator : \"))\n",
    "num=int(input(\"Insert some number : \"))\n",
    "#test-case\n",
    "print(perkalian(6,5))\n",
    "print(perkalian(7,10))\n",
    "print(perkalian(itr,num))\n"
   ]
  },
  {
   "cell_type": "code",
   "execution_count": 6,
   "metadata": {},
   "outputs": [
    {
     "name": "stdout",
     "output_type": "stream",
     "text": [
      "[11, 13, 15, 17, 19, 21, 23, 25, 27, 29]\n",
      "[97, 95, 93, 91, 89, 87, 85, 83]\n",
      "[13, 11, 9, 7, 5, 3, 1]\n"
     ]
    }
   ],
   "source": [
    "#deret ganjil\n",
    "def ganjil(first_limit, second_limit):\n",
    "    storage=[]\n",
    "    if first_limit<second_limit:\n",
    "        for i in range(first_limit, second_limit+1):\n",
    "            if i%2!=0:\n",
    "                storage.append(i)\n",
    "    else:\n",
    "        for i in range(first_limit,second_limit-1,-1):\n",
    "            if i%2!=0:\n",
    "                storage.append(i)\n",
    "    [*final] = storage\n",
    "    return final\n",
    "\n",
    "#input form\n",
    "start=int(input(\"Start Point : \"))\n",
    "end=int(input(\"Ending Point : \"))\n",
    "\n",
    "#testcase\n",
    "print(ganjil(10,30))\n",
    "print(ganjil(97,82))\n",
    "print(ganjil(start,end))"
   ]
  },
  {
   "cell_type": "code",
   "execution_count": 22,
   "metadata": {},
   "outputs": [
    {
     "name": "stdout",
     "output_type": "stream",
     "text": [
      "Masukkan Nilai Angka Matkul ke 1 : A\n",
      "Masukkan Nilai Angka Matkul ke 2 : A\n",
      "Masukkan Nilai Angka Matkul ke 3 : A\n",
      "Masukkan Nilai Angka Matkul ke 4 : C\n",
      "Masukkan Nilai Angka Matkul ke 5 : D\n",
      "Masukkan Nilai Angka Matkul ke 6 : B\n",
      "Masukkan Nilai Angka Matkul ke 7 : C\n",
      "Indeks Prestasi Semester anda : 2.86\n"
     ]
    }
   ],
   "source": [
    "def IPS():\n",
    "    jumlah_matkul=input(\"Masukkan banyak matkul yang anda ambil : \")\n",
    "    total_nilai = 0\n",
    "    jumlah_matkul=int(jumlah_matkul)\n",
    "    for i in range(1,jumlah_matkul+1):\n",
    "        masuk=input(f\"Masukkan Nilai Angka Matkul ke {i} : \")\n",
    "        print(f\"Masukkan Nilai Angka Matkul ke {i} : {masuk}\")\n",
    "        if masuk == \"A\":\n",
    "            total_nilai+=4\n",
    "        elif masuk ==\"B\":\n",
    "            total_nilai+=3\n",
    "        elif masuk == \"C\":\n",
    "            total_nilai+=2\n",
    "        elif masuk == \"D\":\n",
    "            total_nilai+=1\n",
    "        else :\n",
    "            total_nilai+=0\n",
    "    indSem= round(total_nilai/jumlah_matkul,2)\n",
    "    return f\"Indeks Prestasi Semester anda : {indSem}\"\n",
    "\n",
    "print(IPS())"
   ]
  }
 ],
 "metadata": {
  "kernelspec": {
   "display_name": "Python 3",
   "language": "python",
   "name": "python3"
  },
  "language_info": {
   "codemirror_mode": {
    "name": "ipython",
    "version": 3
   },
   "file_extension": ".py",
   "mimetype": "text/x-python",
   "name": "python",
   "nbconvert_exporter": "python",
   "pygments_lexer": "ipython3",
   "version": "3.11.1"
  }
 },
 "nbformat": 4,
 "nbformat_minor": 2
}
