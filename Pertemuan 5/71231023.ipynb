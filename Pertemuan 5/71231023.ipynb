{
 "cells": [
  {
   "cell_type": "code",
   "execution_count": 6,
   "metadata": {},
   "outputs": [
    {
     "name": "stdout",
     "output_type": "stream",
     "text": [
      "6 x 5 = 5 + 5 + 5 + 5 + 5 + 5 = 30\n",
      "7 x 10 = 10 + 10 + 10 + 10 + 10 + 10 + 10 = 70\n"
     ]
    }
   ],
   "source": [
    "#program perkalian\n",
    "def perkalian(iterator, number):\n",
    "    i=0\n",
    "    jumlah=0\n",
    "    while i < iterator:\n",
    "        jumlah+=number\n",
    "        i+=1\n",
    "    return (f\"{iterator} x {number} = {f'{number} + ' * (iterator-1)}{number} = {jumlah}\")\n",
    "\n",
    "print(perkalian(6,5))\n",
    "print(perkalian(7,10))"
   ]
  },
  {
   "cell_type": "code",
   "execution_count": 3,
   "metadata": {},
   "outputs": [
    {
     "name": "stdout",
     "output_type": "stream",
     "text": [
      "11,13,15,17,19,21,23,25,27,29,None\n",
      "\n",
      "97,95,93,91,89,87,85,83,None\n"
     ]
    }
   ],
   "source": [
    "#deret ganjil\n",
    "def odd_progress(first_limit, second_limit):\n",
    "    if first_limit<second_limit:\n",
    "        for i in range(first_limit, second_limit):\n",
    "            if i%2!=0:\n",
    "                print(i, end=\",\")\n",
    "    else:\n",
    "        for i in range(first_limit,second_limit,-1):\n",
    "            if i%2!=0:\n",
    "                print(i, end=\",\")\n",
    "\n",
    "print(odd_progress(10,30))\n",
    "print(\"\")\n",
    "print(odd_progress(97,82))"
   ]
  },
  {
   "cell_type": "code",
   "execution_count": 13,
   "metadata": {},
   "outputs": [
    {
     "name": "stdout",
     "output_type": "stream",
     "text": [
      "Masukkan Nilai Angka Matkul ke 1 : A\n",
      "Masukkan Nilai Angka Matkul ke 2 : B\n",
      "Masukkan Nilai Angka Matkul ke 3 : C\n",
      "Masukkan Nilai Angka Matkul ke 4 : A\n",
      "Masukkan Nilai Angka Matkul ke 5 : D\n",
      "Masukkan Nilai Angka Matkul ke 6 : C\n",
      "Nilai IPS anda semester ini  2.67\n"
     ]
    }
   ],
   "source": [
    "def IPS(jumlah_matkul):\n",
    "    total_nilai = 0\n",
    "    for i in range(1,jumlah_matkul+1):\n",
    "        masuk=input(f\"Masukkan Nilai Angka Matkul ke {i} : \")\n",
    "        print(f\"Masukkan Nilai Angka Matkul ke {i} : {masuk}\")\n",
    "        if masuk == \"A\":\n",
    "            total_nilai+=4\n",
    "        elif masuk ==\"B\":\n",
    "            total_nilai+=3\n",
    "        elif masuk == \"C\":\n",
    "            total_nilai+=2\n",
    "        elif masuk == \"D\":\n",
    "            total_nilai+=1\n",
    "    return total_nilai/jumlah_matkul\n",
    "\n",
    "a= int(input(\"Masukkan jumlah matkul anda : \"))\n",
    "print(\"Nilai IPS anda semester ini \", round(IPS(a),2))\n",
    "\n",
    "\n",
    "   "
   ]
  }
 ],
 "metadata": {
  "kernelspec": {
   "display_name": "Python 3",
   "language": "python",
   "name": "python3"
  },
  "language_info": {
   "codemirror_mode": {
    "name": "ipython",
    "version": 3
   },
   "file_extension": ".py",
   "mimetype": "text/x-python",
   "name": "python",
   "nbconvert_exporter": "python",
   "pygments_lexer": "ipython3",
   "version": "3.11.1"
  }
 },
 "nbformat": 4,
 "nbformat_minor": 2
}
