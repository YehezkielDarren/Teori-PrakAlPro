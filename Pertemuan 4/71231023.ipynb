{
 "cells": [
  {
   "cell_type": "markdown",
   "metadata": {},
   "source": [
    "Soal 1"
   ]
  },
  {
   "cell_type": "code",
   "execution_count": 2,
   "metadata": {},
   "outputs": [
    {
     "name": "stdout",
     "output_type": "stream",
     "text": [
      "0 4 4 : False\n"
     ]
    }
   ],
   "source": [
    "#function cek_angka\n",
    "def  cek_angka(a,b,c):\n",
    "    if a!=b and b!= c:\n",
    "        if (a+b==c) or (a+c==b) or (b+c==a):\n",
    "            return True\n",
    "        else:\n",
    "            return False\n",
    "    else:\n",
    "        return False\n",
    "\n",
    "number_1=int(input(\"Masukkan bilangan pertama : \"))\n",
    "number_2=int(input(\"Masukkan bilangan kedua : \"))\n",
    "number_3=int(input())\n",
    "\n",
    "print(number_1,number_2, number_3,\":\",cek_angka(number_1,number_2,number_3))\n"
   ]
  },
  {
   "cell_type": "markdown",
   "metadata": {},
   "source": [
    "Soal 2"
   ]
  },
  {
   "cell_type": "code",
   "execution_count": 11,
   "metadata": {},
   "outputs": [
    {
     "name": "stdout",
     "output_type": "stream",
     "text": [
      "190 200 68900 : True\n"
     ]
    }
   ],
   "source": [
    "#function cek_digit_belakang()\n",
    "def cek_digit_belakang(x,y,z):\n",
    "    a= x%10\n",
    "    b= x%10\n",
    "    c=x%10\n",
    "    if a==b==c:\n",
    "        return True\n",
    "    else:\n",
    "        if a==b or b==c or a==c:\n",
    "            return True\n",
    "        else:\n",
    "            return False\n",
    "\n",
    "#input form \n",
    "int1= int(input(\"Masukkan angka pertama : \"))\n",
    "int2= int(input(\"Masukkan angka kedua : \"))\n",
    "int3= int(input(\"Masukkan angka ketiga : \"))\n",
    "\n",
    "\n",
    "print(int1,int2,int3,\":\",cek_digit_belakang(int1,int2,int3))\n",
    "\n",
    "    "
   ]
  },
  {
   "cell_type": "markdown",
   "metadata": {},
   "source": [
    "Soal 3"
   ]
  },
  {
   "cell_type": "code",
   "execution_count": 3,
   "metadata": {},
   "outputs": [
    {
     "name": "stdout",
     "output_type": "stream",
     "text": [
      "273.13 celcius = 218.50 reamur\n",
      "273.13 celcius = 523.63 fahrenheit\n"
     ]
    }
   ],
   "source": [
    "#lambda function\n",
    "suhu_reamur = lambda a : 0.8*a\n",
    "suhu_fahrenheit= lambda a : (9/5)*a +32\n",
    "\n",
    "suhu_celcius = float(input(\"Masukkan suhu dalam celcius :\"))\n",
    "\n",
    "print(\"%.2f celcius = %.2f reamur\\n%.2f celcius = %.2f fahrenheit\" %(suhu_celcius, suhu_reamur(suhu_celcius), suhu_celcius, suhu_fahrenheit(suhu_celcius)))\n",
    "\n"
   ]
  }
 ],
 "metadata": {
  "kernelspec": {
   "display_name": "Python 3",
   "language": "python",
   "name": "python3"
  },
  "language_info": {
   "codemirror_mode": {
    "name": "ipython",
    "version": 3
   },
   "file_extension": ".py",
   "mimetype": "text/x-python",
   "name": "python",
   "nbconvert_exporter": "python",
   "pygments_lexer": "ipython3",
   "version": "3.11.1"
  }
 },
 "nbformat": 4,
 "nbformat_minor": 2
}
