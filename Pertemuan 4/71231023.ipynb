{
 "cells": [
  {
   "cell_type": "markdown",
   "metadata": {},
   "source": [
    "Soal 1"
   ]
  },
  {
   "cell_type": "code",
   "execution_count": 8,
   "metadata": {},
   "outputs": [
    {
     "name": "stdout",
     "output_type": "stream",
     "text": [
      "0 0 0 : False\n"
     ]
    }
   ],
   "source": [
    "import random\n",
    "\n",
    "#function cek_angka\n",
    "def  cek_angka(a,b,c):\n",
    "    if a!=b and b!= c:\n",
    "        if (a+b==c) or (a+c==b) or (b+c==a):\n",
    "            return True\n",
    "        else:\n",
    "            return False\n",
    "    else:\n",
    "        return False\n",
    "\n",
    "x = int(random.random())\n",
    "y=int(random.random())\n",
    "z=int(random.random())\n",
    "\n",
    "print(x,y,z, \":\",cek_angka(x,y,z))\n"
   ]
  },
  {
   "cell_type": "markdown",
   "metadata": {},
   "source": [
    "Soal 2"
   ]
  },
  {
   "cell_type": "code",
   "execution_count": 11,
   "metadata": {},
   "outputs": [
    {
     "name": "stdout",
     "output_type": "stream",
     "text": [
      "190 200 68900 : True\n"
     ]
    }
   ],
   "source": [
    "#function cek_digit_belakang()\n",
    "def cek_digit_belakang(x,y,z):\n",
    "    a= x%10\n",
    "    b= x%10\n",
    "    c=x%10\n",
    "    if a==b==c:\n",
    "        return True\n",
    "    else:\n",
    "        if a==b or b==c or a==c:\n",
    "            return True\n",
    "        else:\n",
    "            return False\n",
    "\n",
    "#input form \n",
    "int1= int(input(\"Masukkan angka pertama : \"))\n",
    "int2= int(input(\"Masukkan angka kedua : \"))\n",
    "int3= int(input(\"Masukkan angka ketiga : \"))\n",
    "\n",
    "\n",
    "print(int1,int2,int3,\":\",cek_digit_belakang(int1,int2,int3))\n",
    "\n",
    "    "
   ]
  },
  {
   "cell_type": "markdown",
   "metadata": {},
   "source": [
    "Soal 3"
   ]
  },
  {
   "cell_type": "code",
   "execution_count": null,
   "metadata": {},
   "outputs": [],
   "source": [
    "#lambda function\n"
   ]
  }
 ],
 "metadata": {
  "kernelspec": {
   "display_name": "Python 3",
   "language": "python",
   "name": "python3"
  },
  "language_info": {
   "codemirror_mode": {
    "name": "ipython",
    "version": 3
   },
   "file_extension": ".py",
   "mimetype": "text/x-python",
   "name": "python",
   "nbconvert_exporter": "python",
   "pygments_lexer": "ipython3",
   "version": "3.10.11"
  }
 },
 "nbformat": 4,
 "nbformat_minor": 2
}
