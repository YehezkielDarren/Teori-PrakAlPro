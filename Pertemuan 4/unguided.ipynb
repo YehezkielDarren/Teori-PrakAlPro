{
 "cells": [
  {
   "cell_type": "markdown",
   "metadata": {},
   "source": [
    "Soal 1"
   ]
  },
  {
   "cell_type": "code",
   "execution_count": 2,
   "metadata": {},
   "outputs": [
    {
     "name": "stdout",
     "output_type": "stream",
     "text": [
      "14\n",
      "15\n",
      "16\n",
      "17\n",
      "18\n",
      "None\n"
     ]
    }
   ],
   "source": [
    "def cek(a,b):\n",
    "    if a>b:\n",
    "        for i in range(b,a+1):\n",
    "            print(i)\n",
    "    else:\n",
    "        for i in range(a,b+1):\n",
    "            print(i)\n",
    "        \n",
    "print(cek(18,14))"
   ]
  },
  {
   "cell_type": "markdown",
   "metadata": {},
   "source": [
    "Soal 2"
   ]
  },
  {
   "cell_type": "code",
   "execution_count": 1,
   "metadata": {},
   "outputs": [
    {
     "name": "stdout",
     "output_type": "stream",
     "text": [
      "10\n",
      "15\n",
      "20\n",
      "Finish\n"
     ]
    }
   ],
   "source": [
    "def deret(a,b,c):\n",
    "    while b%a!=0:\n",
    "        b+=1\n",
    "    while b<=c:\n",
    "        print(b)\n",
    "        b+=a\n",
    "    return \"Finish\" \n",
    "print(deret(5,9,20))"
   ]
  },
  {
   "cell_type": "code",
   "execution_count": 17,
   "metadata": {},
   "outputs": [
    {
     "name": "stdout",
     "output_type": "stream",
     "text": [
      "60.0\n"
     ]
    }
   ],
   "source": [
    "def deret(n,suku_awal,banyak_suku):\n",
    "    a=suku_awal\n",
    "    for i in range(banyak_suku):\n",
    "        suku_awal+=n\n",
    "    nilai = ((a+suku_awal)*banyak_suku)/2\n",
    "    return nilai\n",
    "\n",
    "print(deret(3,1,6))"
   ]
  },
  {
   "cell_type": "code",
   "execution_count": 28,
   "metadata": {},
   "outputs": [
    {
     "name": "stdout",
     "output_type": "stream",
     "text": [
      "0\n",
      "90000.0\n",
      " \n",
      "20\n",
      "36000.0\n",
      " \n",
      "15\n",
      "68000.0\n",
      " \n",
      "2\n",
      "68600.0\n"
     ]
    }
   ],
   "source": [
    "def tiket_masuk(harga_masuk,orang ,diskon=0):\n",
    "    harga = harga_masuk*orang\n",
    "    total  = harga-((harga*diskon)/100)\n",
    "    print(diskon)\n",
    "    return total\n",
    "\n",
    "print(tiket_masuk(orang=5,harga_masuk=18000))\n",
    "print(\" \")\n",
    "print(tiket_masuk(orang=3,harga_masuk=15000,diskon=20))\n",
    "print(\" \")\n",
    "print(tiket_masuk(harga_masuk=20000,diskon=15,orang=4))\n",
    "print(\" \")\n",
    "print(tiket_masuk(diskon=2, harga_masuk=10000,orang=7))"
   ]
  },
  {
   "cell_type": "code",
   "execution_count": 34,
   "metadata": {},
   "outputs": [
    {
     "name": "stdout",
     "output_type": "stream",
     "text": [
      "36000.0\n"
     ]
    }
   ],
   "source": [
    "#lambda function\n",
    "\n",
    "tiket_masuk = lambda harga_masuk, orang, diskon : (harga_masuk*orang)-(((harga_masuk*orang)*diskon)/100)\n",
    "print(tiket_masuk(harga_masuk=15000,diskon=20, orang=3))"
   ]
  }
 ],
 "metadata": {
  "kernelspec": {
   "display_name": "Python 3",
   "language": "python",
   "name": "python3"
  },
  "language_info": {
   "codemirror_mode": {
    "name": "ipython",
    "version": 3
   },
   "file_extension": ".py",
   "mimetype": "text/x-python",
   "name": "python",
   "nbconvert_exporter": "python",
   "pygments_lexer": "ipython3",
   "version": "3.11.1"
  }
 },
 "nbformat": 4,
 "nbformat_minor": 2
}
