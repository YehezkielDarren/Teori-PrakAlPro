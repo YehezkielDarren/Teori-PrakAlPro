{
 "cells": [
  {
   "cell_type": "markdown",
   "metadata": {},
   "source": [
    "Soal 1"
   ]
  },
  {
   "cell_type": "code",
   "execution_count": null,
   "metadata": {},
   "outputs": [],
   "source": [
    "def cek(a,b):\n",
    "    if a>b:\n",
    "        for i in range(b,a+1):\n",
    "            print(i)\n",
    "    else:\n",
    "        for i in range(a,b+1):\n",
    "            print(i)\n",
    "        \n",
    "print(cek(18,14))"
   ]
  },
  {
   "cell_type": "markdown",
   "metadata": {},
   "source": [
    "Soal 2"
   ]
  },
  {
   "cell_type": "code",
   "execution_count": 1,
   "metadata": {},
   "outputs": [
    {
     "name": "stdout",
     "output_type": "stream",
     "text": [
      "15\n",
      "20\n",
      "25\n",
      "None\n"
     ]
    }
   ],
   "source": [
    "def deret(a,b,c):\n",
    "    while b%a!=0:\n",
    "        b+=1\n",
    "    while b<=c:\n",
    "        print(b)\n",
    "        b+=a\n",
    "        \n",
    "print(deret(5,9,20))"
   ]
  }
 ],
 "metadata": {
  "kernelspec": {
   "display_name": "Python 3",
   "language": "python",
   "name": "python3"
  },
  "language_info": {
   "codemirror_mode": {
    "name": "ipython",
    "version": 3
   },
   "file_extension": ".py",
   "mimetype": "text/x-python",
   "name": "python",
   "nbconvert_exporter": "python",
   "pygments_lexer": "ipython3",
   "version": "3.11.1"
  }
 },
 "nbformat": 4,
 "nbformat_minor": 2
}
