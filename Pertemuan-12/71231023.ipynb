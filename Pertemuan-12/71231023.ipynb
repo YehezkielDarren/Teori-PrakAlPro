{
 "cells": [
  {
   "cell_type": "markdown",
   "metadata": {},
   "source": [
    "Soal 11.1"
   ]
  },
  {
   "cell_type": "code",
   "execution_count": 1,
   "metadata": {},
   "outputs": [
    {
     "name": "stdout",
     "output_type": "stream",
     "text": [
      "True\n"
     ]
    }
   ],
   "source": [
    "tA=90,90,90\n",
    "for i in range(len(tA)):\n",
    "    if tA[i]!=tA[(i+1)%len(tA)]:\n",
    "        print(False)\n",
    "        break\n",
    "else:\n",
    "    print(True)"
   ]
  },
  {
   "cell_type": "markdown",
   "metadata": {},
   "source": [
    "Soal 11.2"
   ]
  },
  {
   "cell_type": "code",
   "execution_count": 2,
   "metadata": {},
   "outputs": [
    {
     "name": "stdout",
     "output_type": "stream",
     "text": [
      "NIM\t\t:  71231023\n",
      "NAMA\t\t:  Yehezkiel Darren Putra Wardoyo\n",
      "ALAMAT\t\t:  Sleman, DI.Yogyakarta\n",
      "\n",
      "NIM\t\t:  ('7', '1', '2', '3', '1', '0', '2', '3')\n",
      "Nama Depan\t:  ('e', 'h', 'e', 'z', 'k', 'i', 'e', 'l')\n",
      "Nama Terbalik\t:  ('Wardoyo', 'Putra', 'Darren', 'Yehezkiel')\n"
     ]
    }
   ],
   "source": [
    "data=('Yehezkiel Darren Putra Wardoyo', '71231023', 'Sleman, DI.Yogyakarta')\n",
    "nama,nim,alamat=data\n",
    "\n",
    "print(\"NIM\\t\\t: \",nim)\n",
    "print(\"NAMA\\t\\t: \",nama)\n",
    "print(\"ALAMAT\\t\\t: \",alamat)\n",
    "print()\n",
    "nama=nama.split()\n",
    "print(\"NIM\\t\\t: \", tuple(nim))\n",
    "print(\"Nama Depan\\t: \", tuple(nama[0][1:]))\n",
    "print(\"Nama Terbalik\\t: \", tuple(nama[-1::-1]))"
   ]
  },
  {
   "cell_type": "markdown",
   "metadata": {},
   "source": [
    "Soal 11.3"
   ]
  },
  {
   "cell_type": "code",
   "execution_count": 5,
   "metadata": {},
   "outputs": [
    {
     "name": "stdout",
     "output_type": "stream",
     "text": [
      "04 3\n",
      "06 1\n",
      "07 1\n",
      "09 2\n",
      "10 3\n",
      "11 6\n",
      "14 1\n",
      "15 2\n",
      "16 4\n",
      "17 2\n",
      "18 1\n",
      "19 1\n"
     ]
    }
   ],
   "source": [
    "nama_file=input(\"Masukkan nama file : \")\n",
    "try :\n",
    "    with open(nama_file) as f:\n",
    "        handle=f.readlines()\n",
    "except FileNotFoundError:\n",
    "    print(\"File Not Found \", nama_file)\n",
    "dictionary,baris_email=dict(),list(x for x in handle if x.startswith(\"From \"))\n",
    "for keys in baris_email:\n",
    "    jam=keys.split()[5].split(\":\")[0]\n",
    "    dictionary[jam]=dictionary.get(jam,0)+1\n",
    "dist_jam=sorted([(hour,i) for hour,i in dictionary.items()])\n",
    "for hour,i in dist_jam:\n",
    "    print(hour,i)"
   ]
  }
 ],
 "metadata": {
  "kernelspec": {
   "display_name": "Python 3",
   "language": "python",
   "name": "python3"
  },
  "language_info": {
   "codemirror_mode": {
    "name": "ipython",
    "version": 3
   },
   "file_extension": ".py",
   "mimetype": "text/x-python",
   "name": "python",
   "nbconvert_exporter": "python",
   "pygments_lexer": "ipython3",
   "version": "3.11.1"
  }
 },
 "nbformat": 4,
 "nbformat_minor": 2
}
