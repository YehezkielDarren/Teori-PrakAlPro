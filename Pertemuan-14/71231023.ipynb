{
 "cells": [
  {
   "cell_type": "markdown",
   "metadata": {},
   "source": [
    "Latihan 1"
   ]
  },
  {
   "cell_type": "code",
   "execution_count": 4,
   "metadata": {},
   "outputs": [
    {
     "name": "stdout",
     "output_type": "stream",
     "text": [
      "True\n"
     ]
    }
   ],
   "source": [
    "def primeNumber(number,i=2):\n",
    "    while number>i:\n",
    "        if number%i==0:\n",
    "            return False\n",
    "        return primeNumber(number,i+1)\n",
    "    return False if number<i else True\n",
    "print(primeNumber(11))"
   ]
  },
  {
   "cell_type": "markdown",
   "metadata": {},
   "source": [
    "Latihan 2"
   ]
  },
  {
   "cell_type": "code",
   "execution_count": 5,
   "metadata": {},
   "outputs": [
    {
     "name": "stdout",
     "output_type": "stream",
     "text": [
      "True\n"
     ]
    }
   ],
   "source": [
    "def palindrom(kata):\n",
    "    if len(kata)<=1:\n",
    "        return True\n",
    "    if kata[0]!=kata[-1]:\n",
    "        return False\n",
    "    else:\n",
    "        return palindrom(kata[1:-1])\n",
    "\n",
    "print(palindrom(\"kasurrusak\"))\n",
    "    "
   ]
  },
  {
   "cell_type": "markdown",
   "metadata": {},
   "source": [
    "Latihan 3"
   ]
  },
  {
   "cell_type": "code",
   "execution_count": 19,
   "metadata": {},
   "outputs": [
    {
     "name": "stdout",
     "output_type": "stream",
     "text": [
      "2500\n"
     ]
    }
   ],
   "source": [
    "def deretGanjjil(n,i=1):\n",
    "    if i<=n:\n",
    "        return i+deretGanjjil(n,i+2)\n",
    "    return 0\n",
    "    \n",
    "print(deretGanjjil(100))"
   ]
  },
  {
   "cell_type": "markdown",
   "metadata": {},
   "source": [
    "Latihan 4"
   ]
  },
  {
   "cell_type": "code",
   "execution_count": 13,
   "metadata": {},
   "outputs": [
    {
     "name": "stdout",
     "output_type": "stream",
     "text": [
      "09108 maka jumlah digitnya adalah 0+9+1+0+8 = 18\n"
     ]
    }
   ],
   "source": [
    "def sumstringDigit(digitString:str):\n",
    "    return int(digitString[0])+sumstringDigit(digitString[1:]) if len(digitString)>=1 else 0\n",
    "\n",
    "digit=\"09108\"\n",
    "hasil=sumstringDigit(digit)\n",
    "penjumlahanDigit=\"+\".join(digit)\n",
    "print(f\"{digit} maka jumlah digitnya adalah {penjumlahanDigit} = {hasil}\")"
   ]
  },
  {
   "cell_type": "markdown",
   "metadata": {},
   "source": [
    "Latihan 5"
   ]
  },
  {
   "cell_type": "code",
   "execution_count": 8,
   "metadata": {},
   "outputs": [
    {
     "name": "stdout",
     "output_type": "stream",
     "text": [
      "20.0\n"
     ]
    }
   ],
   "source": [
    "def combinations(n,r):\n",
    "    if r==0 or n-r==0:\n",
    "        return 1\n",
    "    elif r==1 or n-r==1:\n",
    "        return n\n",
    "    elif r==2 or n-r==2:\n",
    "        return n*(n-1)/2\n",
    "    else:\n",
    "        return combinations(n-1,r-1)+combinations(n-1,r)\n",
    "\n",
    "print(combinations(6,3))"
   ]
  }
 ],
 "metadata": {
  "kernelspec": {
   "display_name": "Python 3",
   "language": "python",
   "name": "python3"
  },
  "language_info": {
   "codemirror_mode": {
    "name": "ipython",
    "version": 3
   },
   "file_extension": ".py",
   "mimetype": "text/x-python",
   "name": "python",
   "nbconvert_exporter": "python",
   "pygments_lexer": "ipython3",
   "version": "3.11.1"
  }
 },
 "nbformat": 4,
 "nbformat_minor": 2
}
