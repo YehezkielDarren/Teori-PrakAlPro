{
 "cells": [
  {
   "cell_type": "markdown",
   "metadata": {},
   "source": [
    "Soal 1"
   ]
  },
  {
   "cell_type": "code",
   "execution_count": 4,
   "metadata": {},
   "outputs": [
    {
     "name": "stdout",
     "output_type": "stream",
     "text": [
      "key\tvalue\titem\n",
      "1\t10\t1\n",
      "2\t20\t2\n",
      "3\t30\t3\n",
      "4\t40\t4\n",
      "5\t50\t5\n",
      "6\t60\t6\n"
     ]
    }
   ],
   "source": [
    "dictionary={\n",
    "    1:10,\n",
    "    2:20,\n",
    "    3:30,\n",
    "    4:40,\n",
    "    5:50,\n",
    "    6:60\n",
    "}\n",
    "print(\"key\\tvalue\\titem\")\n",
    "for key,val in dictionary.items():\n",
    "    print(f\"{key}\\t{val}\\t{key}\")"
   ]
  },
  {
   "cell_type": "markdown",
   "metadata": {},
   "source": [
    "Soal 2"
   ]
  },
  {
   "cell_type": "code",
   "execution_count": 2,
   "metadata": {},
   "outputs": [
    {
     "name": "stdout",
     "output_type": "stream",
     "text": [
      "{'darren': 19, 'ndus': 20, 'calvin': 20}\n"
     ]
    }
   ],
   "source": [
    "#data list\n",
    "nama=[\"darren\",\"ndus\",\"calvin\"]\n",
    "umur=[19,20,20]\n",
    "user=dict()\n",
    "for i in range(min(len(nama),len(umur))):\n",
    "    user.update({nama[i]:umur[i]})\n",
    "print(user)"
   ]
  },
  {
   "cell_type": "markdown",
   "metadata": {},
   "source": [
    "Soal 3"
   ]
  },
  {
   "cell_type": "code",
   "execution_count": 19,
   "metadata": {},
   "outputs": [
    {
     "name": "stdout",
     "output_type": "stream",
     "text": [
      "{'stephen.marquard@uct.ac.za': 2, 'louis@media.berkeley.edu': 3, 'zqian@umich.edu': 4, 'rjlowe@iupui.edu': 2, 'cwen@iupui.edu': 5, 'gsilver@umich.edu': 3, 'wagnermr@iupui.edu': 1, 'antranig@caret.cam.ac.uk': 1, 'gopal.ramasammycook@gmail.com': 1, 'david.horwitz@uct.ac.za': 4, 'ray@media.berkeley.edu': 1}\n"
     ]
    }
   ],
   "source": [
    "def akunGmail(txt:str):\n",
    "    try:\n",
    "        f=open(nama_file)\n",
    "    except :\n",
    "        print(\"File Not Found!!!\")\n",
    "    akun_gmail=dict()\n",
    "    for words in f:\n",
    "        if words.startswith(\"From: \"):\n",
    "            akun=words.split()[1]\n",
    "            akun_gmail[akun]=akun_gmail.get(akun,0)+1\n",
    "    return akun_gmail\n",
    "nama_file=input(\"Masukkan Nama File : \")\n",
    "print(akunGmail(nama_file))\n"
   ]
  },
  {
   "cell_type": "markdown",
   "metadata": {},
   "source": [
    "Soal 4"
   ]
  },
  {
   "cell_type": "code",
   "execution_count": 18,
   "metadata": {},
   "outputs": [
    {
     "name": "stdout",
     "output_type": "stream",
     "text": [
      "{'uct.ac.za': 6, 'media.berkeley.edu': 4, 'umich.edu': 7, 'iupui.edu': 8, 'caret.cam.ac.uk': 1, 'gmail.com': 1}\n"
     ]
    }
   ],
   "source": [
    "def domainAkun(txt:str):\n",
    "    try:\n",
    "        text=open(nama_file)\n",
    "    except :\n",
    "        print(\"File Not Found!!!\")\n",
    "    domain_=dict()\n",
    "    for words in text:\n",
    "        if words.startswith(\"From: \"):\n",
    "            akun=words.split()[1]\n",
    "            domain=akun[akun.find(\"@\")+1:]\n",
    "            domain_[domain]=domain_.get(domain,0)+1\n",
    "    return domain_\n",
    "\n",
    "nama_file=input(\"Masukkan Nama File : \")\n",
    "print(domainAkun(nama_file))\n"
   ]
  }
 ],
 "metadata": {
  "kernelspec": {
   "display_name": "Python 3",
   "language": "python",
   "name": "python3"
  },
  "language_info": {
   "codemirror_mode": {
    "name": "ipython",
    "version": 3
   },
   "file_extension": ".py",
   "mimetype": "text/x-python",
   "name": "python",
   "nbconvert_exporter": "python",
   "pygments_lexer": "ipython3",
   "version": "3.11.1"
  }
 },
 "nbformat": 4,
 "nbformat_minor": 2
}
