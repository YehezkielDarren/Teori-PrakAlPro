{
 "cells": [
  {
   "cell_type": "markdown",
   "metadata": {},
   "source": [
    "Soal 1"
   ]
  },
  {
   "cell_type": "code",
   "execution_count": 4,
   "metadata": {},
   "outputs": [
    {
     "name": "stdout",
     "output_type": "stream",
     "text": [
      "key\tvalue\titem\n",
      "1\t10\t1\n",
      "2\t20\t2\n",
      "3\t30\t3\n",
      "4\t40\t4\n",
      "5\t50\t5\n",
      "6\t60\t6\n"
     ]
    }
   ],
   "source": [
    "dictionary={\n",
    "    1:10,\n",
    "    2:20,\n",
    "    3:30,\n",
    "    4:40,\n",
    "    5:50,\n",
    "    6:60\n",
    "}\n",
    "print(\"key\\tvalue\\titem\")\n",
    "for key,val in dictionary.items():\n",
    "    print(f\"{key}\\t{val}\\t{key}\")"
   ]
  },
  {
   "cell_type": "markdown",
   "metadata": {},
   "source": [
    "Soal 2"
   ]
  },
  {
   "cell_type": "code",
   "execution_count": 2,
   "metadata": {},
   "outputs": [
    {
     "name": "stdout",
     "output_type": "stream",
     "text": [
      "{'darren': 19, 'ndus': 20, 'calvin': 20}\n"
     ]
    }
   ],
   "source": [
    "#data list\n",
    "nama=[\"darren\",\"ndus\",\"calvin\"]\n",
    "umur=[19,20,20]\n",
    "user=dict()\n",
    "for i in range(min(len(nama),len(umur))):\n",
    "    user.update({nama[i]:umur[i]})\n",
    "print(user)"
   ]
  },
  {
   "cell_type": "markdown",
   "metadata": {},
   "source": [
    "Soal 3"
   ]
  },
  {
   "cell_type": "code",
   "execution_count": 5,
   "metadata": {},
   "outputs": [
    {
     "name": "stdout",
     "output_type": "stream",
     "text": [
      "{'stephen.marquard@uct.ac.za': 8, '<postmaster@collab.sakaiproject.org>': 27, '<200801051412.m05ECIaH010327@nakamura.uits.iupui.edu>': 1, '<source@collab.sakaiproject.org>;': 81, 'apache@localhost)': 27, 'source@collab.sakaiproject.org;': 27, 'source@collab.sakaiproject.org': 27, 'louis@media.berkeley.edu': 12, '<200801042308.m04N8v6O008125@nakamura.uits.iupui.edu>': 1, 'zqian@umich.edu': 17, '<200801042109.m04L92hb007923@nakamura.uits.iupui.edu>': 1, 'rjlowe@iupui.edu': 8, '<200801042044.m04Kiem3007881@nakamura.uits.iupui.edu>': 1, '<200801042001.m04K1cO0007738@nakamura.uits.iupui.edu>': 1, '<200801041948.m04JmdwO007705@nakamura.uits.iupui.edu>': 1, 'cwen@iupui.edu': 20, '<200801041635.m04GZQGZ007313@nakamura.uits.iupui.edu>': 1, 'hu2@iupui.edu': 2, '<200801041633.m04GX6eG007292@nakamura.uits.iupui.edu>': 1, 'gsilver@umich.edu': 12, '<200801041611.m04GB1Lb007221@nakamura.uits.iupui.edu>': 1, '<200801041610.m04GA5KP007209@nakamura.uits.iupui.edu>': 1, '<200801041609.m04G9EuX007197@nakamura.uits.iupui.edu>': 1, '<200801041608.m04G8d7w007184@nakamura.uits.iupui.edu>': 1, 'wagnermr@iupui.edu': 6, '<200801041537.m04Fb6Ci007092@nakamura.uits.iupui.edu>': 1, '<200801041515.m04FFv42007050@nakamura.uits.iupui.edu>': 1, 'antranig@caret.cam.ac.uk': 4, '<200801041502.m04F21Jo007031@nakamura.uits.iupui.edu>': 1, 'gopal.ramasammycook@gmail.com': 4, '<200801041403.m04E3psW006926@nakamura.uits.iupui.edu>': 1, 'david.horwitz@uct.ac.za': 17, '<200801041200.m04C0gfK006793@nakamura.uits.iupui.edu>': 1, 'dhorwitz@david-horwitz-6:~/branchManagemnt/sakai_2-5-x>': 4, '<200801041106.m04B6lK3006677@nakamura.uits.iupui.edu>': 1, '<200801040947.m049lUxo006517@nakamura.uits.iupui.edu>': 1, 'josrodri@iupui.edu': 2, '<200801040932.m049W2i5006493@nakamura.uits.iupui.edu>': 1, '<200801040905.m0495rWB006420@nakamura.uits.iupui.edu>': 1, '<200801040023.m040NpCc005473@nakamura.uits.iupui.edu>': 1, '<200801032216.m03MGhDa005292@nakamura.uits.iupui.edu>': 1, 'ray@media.berkeley.edu': 4, '<200801032205.m03M5Ea7005273@nakamura.uits.iupui.edu>': 1, '<200801032133.m03LX3gG005191@nakamura.uits.iupui.edu>': 1, '<200801032127.m03LRUqH005177@nakamura.uits.iupui.edu>': 1, '<200801032122.m03LMFo4005148@nakamura.uits.iupui.edu>': 1}\n"
     ]
    }
   ],
   "source": [
    "nama_file=input(\"Masukkan Nama File : \")\n",
    "try:\n",
    "    with open(nama_file) as f:\n",
    "        text=f.readlines()\n",
    "except :\n",
    "    print(\"File Not Found!!!\")\n",
    "akun_gmail=dict()\n",
    "for words in text:\n",
    "    words=words.strip(\"\\n\").split()\n",
    "    for word in words:\n",
    "        word=word.strip(\"(\").strip(\")\").strip(\"[\").strip(\"]\").strip()\n",
    "        if \"@\" in word:\n",
    "            akun_gmail[word]=akun_gmail.get(word,0)+1\n",
    "print(akun_gmail)\n"
   ]
  },
  {
   "cell_type": "markdown",
   "metadata": {},
   "source": [
    "Soal 4"
   ]
  },
  {
   "cell_type": "code",
   "execution_count": null,
   "metadata": {},
   "outputs": [],
   "source": [
    "nama_file=input(\"Masukkan Nama File : \")\n",
    "try:\n",
    "    with open(nama_file) as f:\n",
    "        text=f.readlines()\n",
    "except :\n",
    "    print(\"File Not Found!!!\")\n"
   ]
  }
 ],
 "metadata": {
  "kernelspec": {
   "display_name": "Python 3",
   "language": "python",
   "name": "python3"
  },
  "language_info": {
   "codemirror_mode": {
    "name": "ipython",
    "version": 3
   },
   "file_extension": ".py",
   "mimetype": "text/x-python",
   "name": "python",
   "nbconvert_exporter": "python",
   "pygments_lexer": "ipython3",
   "version": "3.10.6"
  }
 },
 "nbformat": 4,
 "nbformat_minor": 2
}
