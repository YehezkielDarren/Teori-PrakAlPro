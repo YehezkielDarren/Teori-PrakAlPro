{
 "cells": [
  {
   "cell_type": "markdown",
   "metadata": {},
   "source": [
    "Soal 1"
   ]
  },
  {
   "cell_type": "code",
   "execution_count": 2,
   "metadata": {},
   "outputs": [
    {
     "name": "stdout",
     "output_type": "stream",
     "text": [
      "3 Data Terbesar >> 23, 20, 18\n"
     ]
    }
   ],
   "source": [
    "def BigThree(angka:list):\n",
    "    angka.sort(reverse=True)\n",
    "    return angka[:3]\n",
    "\n",
    "# Example usage\n",
    "data = [20,18,23,1,9,2,5,2]\n",
    "data1,data2,data3=BigThree(data)\n",
    "print(f\"3 Data Terbesar >> {data1}, {data2}, {data3}\")\n"
   ]
  },
  {
   "cell_type": "markdown",
   "metadata": {},
   "source": [
    "Soal 2"
   ]
  },
  {
   "cell_type": "code",
   "execution_count": 13,
   "metadata": {},
   "outputs": [
    {
     "name": "stdout",
     "output_type": "stream",
     "text": [
      "Isi data : [90, -1]\n",
      "Nilai Max : 90; Nilai Min : -1\n"
     ]
    }
   ],
   "source": [
    "def max_min():\n",
    "    list_temp=[]\n",
    "    while True:\n",
    "        inputan=input(\"masukkan sebuah angka/'done' untuk selesai : \")\n",
    "        try:\n",
    "            angka=int(inputan)\n",
    "            list_temp.append(angka)\n",
    "        except ValueError:\n",
    "            if inputan.lower()=='done':\n",
    "                break\n",
    "    return f\"Isi data : {list_temp}\\nNilai Max : {max(list_temp)}; Nilai Min : {min(list_temp)}\"\n",
    "print(max_min())"
   ]
  },
  {
   "cell_type": "markdown",
   "metadata": {},
   "source": [
    "Soal 3"
   ]
  },
  {
   "cell_type": "code",
   "execution_count": 32,
   "metadata": {},
   "outputs": [
    {
     "name": "stdout",
     "output_type": "stream",
     "text": [
      "======ISI BERITA======\n",
      "Presiden Joko Widodo (Jokowi) menegaskan kembali bahwa Pemilu 2024 harus digelar sesuai dengan jadwal yang telah ditetapkan, yaitu pada 14 Februari 2024. Jokowi menekankan bahwa tidak ada penundaan Pemilu 2024, dan semua pihak harus menghormati konstitusi dan demokrasi. 'Pemilu harus dilaksanakan sesuai dengan jadwal yang telah ditetapkan. Tidak ada penundaan,' tegas Jokowi dalam sambutannya pada Rapat Koordinasi Nasional (Rakornas) Pemenangan Pemilu Partai Politik Koalisi Indonesia Bersatu (KIB) di Istana Negara, Jakarta.\n",
      "======KATA======\n",
      "['presiden', 'joko', 'widodo', 'menegaskan', 'kembali', 'digelar', 'yaitu', '14', 'februari', 'menekankan', 'penundaan', 'semua', 'pihak', 'menghormati', 'konstitusi', 'demokrasi', 'dilaksanakan', 'penundaan,', 'tegas', 'dalam', 'sambutannya', 'rapat', 'koordinasi', 'nasional', 'rakornas', 'pemenangan', 'partai', 'politik', 'koalisi', 'indonesia', 'bersatu', 'kib', 'di', 'istana', 'negara', 'jakarta']\n"
     ]
    }
   ],
   "source": [
    "def kataUnik_berita():\n",
    "    with open(\"teks_berita.txt\",\"r\") as f:\n",
    "        handle=f.read()\n",
    "    print(f\"======ISI BERITA======\\n{handle}\")\n",
    "    kata_kata=handle.split()\n",
    "    kata_unik=[]\n",
    "    for kata1 in kata_kata:\n",
    "        count=0\n",
    "        kata1=kata1.strip(\",\").strip(\"(\").strip(\")\").strip(\".\").strip(\"'\").strip().lower()\n",
    "        for kata2 in kata_kata:\n",
    "            kata2=kata2.strip(\",\").strip(\"(\").strip(\")\").strip(\".\").strip(\"'\").strip().lower()\n",
    "            if kata1==kata2:\n",
    "                count+=1\n",
    "        if count==1:\n",
    "            kata_unik.append(kata1)\n",
    "    print(f\"======KATA======\\n{kata_unik}\")\n",
    "\n",
    "kataUnik_berita()"
   ]
  }
 ],
 "metadata": {
  "kernelspec": {
   "display_name": "Python 3",
   "language": "python",
   "name": "python3"
  },
  "language_info": {
   "codemirror_mode": {
    "name": "ipython",
    "version": 3
   },
   "file_extension": ".py",
   "mimetype": "text/x-python",
   "name": "python",
   "nbconvert_exporter": "python",
   "pygments_lexer": "ipython3",
   "version": "3.11.1"
  }
 },
 "nbformat": 4,
 "nbformat_minor": 2
}
