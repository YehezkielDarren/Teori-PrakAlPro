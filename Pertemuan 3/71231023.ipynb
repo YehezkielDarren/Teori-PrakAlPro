{
 "cells": [
  {
   "cell_type": "markdown",
   "metadata": {},
   "source": [
    "1. Soal 1"
   ]
  },
  {
   "cell_type": "code",
   "execution_count": 6,
   "metadata": {},
   "outputs": [
    {
     "name": "stdout",
     "output_type": "stream",
     "text": [
      "35 Celcius\n",
      "CAUTION : HYPOTERMIA!!!\n"
     ]
    }
   ],
   "source": [
    "#Demam atau Tidak\n",
    "fever= input(\"Your Temperature : \")\n",
    "print(\"%d Celcius\" %(int(fever)))\n",
    "try :\n",
    "    fever_ = int(fever)\n",
    "    print(\"You get fever\") if fever_ >= 38 else (print(\"You are normal\") if fever_ >= 36 else print(\"CAUTION : HYPOTERMIA!!!\"))\n",
    "except:\n",
    "    print(\"ERROR: INVALID INPUT!!!\")"
   ]
  },
  {
   "cell_type": "code",
   "execution_count": 4,
   "metadata": {},
   "outputs": [
    {
     "name": "stdout",
     "output_type": "stream",
     "text": [
      "Not an Integer!!!\n"
     ]
    }
   ],
   "source": [
    "#Positif/Negatif\n",
    "Z = input(\"Input an Integer : \")\n",
    "try:\n",
    "    z =int(Z)\n",
    "    print(\"Number : %d \" %z)\n",
    "    print(\"Positive Integer\") if z>0 else (print(\"Negative Integer\") if z<0 else print(\"NOL\"))\n",
    "except:\n",
    "    print(\"Not an Integer!!!\")"
   ]
  },
  {
   "cell_type": "code",
   "execution_count": 3,
   "metadata": {},
   "outputs": [
    {
     "name": "stdout",
     "output_type": "stream",
     "text": [
      "ERROR : INVALID INPUT !!!\n"
     ]
    }
   ],
   "source": [
    "#Nilai Terbesar\n",
    "var1 =input(\"Input first number : \")\n",
    "var2 = input(\"Input second number : \")\n",
    "var3 = input(\"Input third number : \")\n",
    "try:\n",
    "    a= float(var1)\n",
    "    b=float(var2)\n",
    "    c=float(var3)\n",
    "    if a>b and a<c or a>b and a<c :\n",
    "        print(\"Nilai terbesar : %f\" %a)\n",
    "    elif b>a and b<c or b>c and b<a:\n",
    "        print(\"Nilai terbesar : %f\" %b)\n",
    "    else:\n",
    "        print(\"Nilai Terbesar : %f\"%c)\n",
    "except:\n",
    "    print(\"ERROR : INVALID INPUT !!!\")"
   ]
  },
  {
   "cell_type": "markdown",
   "metadata": {},
   "source": [
    "2. soal 2 (ternary operator)"
   ]
  },
  {
   "cell_type": "code",
   "execution_count": 7,
   "metadata": {},
   "outputs": [
    {
     "name": "stdout",
     "output_type": "stream",
     "text": [
      "Determine Integers\n",
      "Number : 0 \n",
      "NOL\n"
     ]
    }
   ],
   "source": [
    "print(\"Determine Integers\")\n",
    "\n",
    "Z = int(input(\"Input an Integer : \"))\n",
    "print(\"Number : %d \" %Z)\n",
    "print(\"Positive Integer\") if Z>0 else (print(\"Negative Integer\") if Z<0 else print(\"NOL\"))"
   ]
  },
  {
   "cell_type": "markdown",
   "metadata": {},
   "source": [
    "3. soal 3"
   ]
  },
  {
   "cell_type": "code",
   "execution_count": 21,
   "metadata": {},
   "outputs": [
    {
     "name": "stdout",
     "output_type": "stream",
     "text": [
      "Calender of 2020\n",
      "This Month has 29 days\n"
     ]
    }
   ],
   "source": [
    "print(\"Calender of 2020\")\n",
    "month=int(input(\"Input Number of Month (1-12) : \"))\n",
    "try:\n",
    "    bulan=int(month)\n",
    "    if bulan%2!=0 or bulan==8:\n",
    "        print(\"This Month has 31 days\")\n",
    "    elif bulan!=2 and bulan%2==0:\n",
    "        print(\"This Month has 30 days\")\n",
    "    elif bulan==2 :\n",
    "        print(\"This Month has 29 days\")\n",
    "    else:\n",
    "        print(\"INVALID INPUT!! TRY AGAIN\")\n",
    "except:\n",
    "    print(\"INVALID INPUT!!!\")    \n",
    "        \n"
   ]
  },
  {
   "cell_type": "markdown",
   "metadata": {},
   "source": [
    "3. Soal 4"
   ]
  },
  {
   "cell_type": "code",
   "execution_count": 2,
   "metadata": {},
   "outputs": [
    {
     "name": "stdout",
     "output_type": "stream",
     "text": [
      "TIDAK ADA YANG SAMA\n"
     ]
    }
   ],
   "source": [
    "#Program menentukan apakah 3 buah angka ada yang sama\n",
    "var1=input(\"Masukkan sisi pertama : \")\n",
    "var2=input(\"Masukkan sisi kedua : \")\n",
    "var3=input(\"Masukkan sisi ketiga : \")\n",
    "\n",
    "try:\n",
    "    a=int(var1)\n",
    "    b=int(var2)\n",
    "    c=int(var3)\n",
    "    if a==b==c:\n",
    "        print(\"SEMUA SAMA\")\n",
    "    elif a==b or a==c or b==c :\n",
    "        print(\"2 SISI SAMA\")\n",
    "    else:\n",
    "        print(\"TIDAK ADA YANG SAMA\")\n",
    "    \n",
    "    \n",
    "except:\n",
    "    print(\"INVALID INPUT!!!\")"
   ]
  }
 ],
 "metadata": {
  "kernelspec": {
   "display_name": "Python 3",
   "language": "python",
   "name": "python3"
  },
  "language_info": {
   "codemirror_mode": {
    "name": "ipython",
    "version": 3
   },
   "file_extension": ".py",
   "mimetype": "text/x-python",
   "name": "python",
   "nbconvert_exporter": "python",
   "pygments_lexer": "ipython3",
   "version": "3.11.1"
  }
 },
 "nbformat": 4,
 "nbformat_minor": 2
}
