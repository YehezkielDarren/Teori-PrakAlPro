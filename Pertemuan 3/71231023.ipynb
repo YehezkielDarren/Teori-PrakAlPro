{
 "cells": [
  {
   "cell_type": "markdown",
   "metadata": {},
   "source": [
    "1. Soal 1"
   ]
  },
  {
   "cell_type": "code",
   "execution_count": 1,
   "metadata": {},
   "outputs": [
    {
     "name": "stdout",
     "output_type": "stream",
     "text": [
      "28 Celcius\n",
      "Not Fever\n"
     ]
    }
   ],
   "source": [
    "#Demam atau Tidak\n",
    "fever= input(\"Your Temperature : \")\n",
    "print(\"%d Celcius\" %(int(fever)))\n",
    "try :\n",
    "    fever_ = int(fever)\n",
    "    if fever_ >=38:\n",
    "        print(\"Fever\")\n",
    "    else:\n",
    "        print(\"Not Fever\")\n",
    "except:\n",
    "    print(\"ERROR: INVALID INPUT!!!\")"
   ]
  },
  {
   "cell_type": "code",
   "execution_count": 5,
   "metadata": {},
   "outputs": [
    {
     "name": "stdout",
     "output_type": "stream",
     "text": [
      "Number : -50 \n",
      "Negative Integer\n"
     ]
    }
   ],
   "source": [
    "#Positif/Negatif\n",
    "Z = input(\"Input an Integer : \")\n",
    "try:\n",
    "    z =int(Z)\n",
    "    print(\"Number : %d \" %z)\n",
    "    print(\"Positive Integer\") if z>0 else (print(\"Negative Integer\") if z<0 else print(\"NOL\"))\n",
    "except:\n",
    "    print(\"Not an Integer!!!\")"
   ]
  },
  {
   "cell_type": "code",
   "execution_count": 9,
   "metadata": {},
   "outputs": [
    {
     "name": "stdout",
     "output_type": "stream",
     "text": [
      "101 98 100\n",
      "Nilai terbesar : 101\n"
     ]
    }
   ],
   "source": [
    "#Nilai Terbesar\n",
    "var1 =input(\"Input first number : \")\n",
    "var2 = input(\"Input second number : \")\n",
    "var3 = input(\"Input third number : \")\n",
    "try:\n",
    "    a= int(var1)\n",
    "    b=int(var2)\n",
    "    c=int(var3)\n",
    "    print(a,b,c)\n",
    "    if a >(b and c):\n",
    "        print(\"Nilai terbesar : %d\" %a)\n",
    "    elif b>(a and c):\n",
    "        print(\"Nilai terbesar : %d\" %b)\n",
    "    else:\n",
    "        print(\"Nilai Terbesar : %d\"%c)\n",
    "except:\n",
    "    print(\"ERROR : INVALID INPUT !!!\")"
   ]
  },
  {
   "cell_type": "markdown",
   "metadata": {},
   "source": [
    "2. soal 2 (ternary operator)"
   ]
  },
  {
   "cell_type": "code",
   "execution_count": 7,
   "metadata": {},
   "outputs": [
    {
     "name": "stdout",
     "output_type": "stream",
     "text": [
      "Determine Integers\n",
      "Number : 0 \n",
      "NOL\n"
     ]
    }
   ],
   "source": [
    "print(\"Determine Integers\")\n",
    "\n",
    "Z = int(input(\"Input an Integer : \"))\n",
    "print(\"Number : %d \" %Z)\n",
    "print(\"Positive Integer\") if Z>0 else (print(\"Negative Integer\") if Z<0 else print(\"NOL\"))"
   ]
  },
  {
   "cell_type": "markdown",
   "metadata": {},
   "source": [
    "3. soal 3"
   ]
  },
  {
   "cell_type": "code",
   "execution_count": 16,
   "metadata": {},
   "outputs": [
    {
     "name": "stdout",
     "output_type": "stream",
     "text": [
      "Calender of 2020\n",
      "Not include in calender\n"
     ]
    }
   ],
   "source": [
    "print(\"Calender of 2020\")\n",
    "month=int(input(\"Input Number of Month (1-12) : \"))\n",
    "try:\n",
    "    bulan=int(month)\n",
    "    if bulan >0 and bulan <= 12:\n",
    "        if bulan%2!=0 or bulan==8:\n",
    "            print(\"This Month(%d) has 31 days\" %bulan)\n",
    "        elif bulan!=2 and bulan%2==0:\n",
    "            print(\"This Month(%d) has 30 days\" %bulan)\n",
    "        elif bulan==2 :\n",
    "            print(\"This Month(%d) has 29 days\" %bulan)\n",
    "    else:\n",
    "        print(\"Not include in calender\")\n",
    "except:\n",
    "    print(\"INVALID INPUT!!!\")    \n",
    "        \n"
   ]
  },
  {
   "cell_type": "markdown",
   "metadata": {},
   "source": [
    "3. Soal 4"
   ]
  },
  {
   "cell_type": "code",
   "execution_count": 19,
   "metadata": {},
   "outputs": [
    {
     "name": "stdout",
     "output_type": "stream",
     "text": [
      "0 1 2\n",
      "Sisi segitiga harus lebih dari nol\n"
     ]
    }
   ],
   "source": [
    "#Program menentukan apakah 3 buah angka ada yang sama\n",
    "var1=input(\"Masukkan sisi pertama : \")\n",
    "var2=input(\"Masukkan sisi kedua : \")\n",
    "var3=input(\"Masukkan sisi ketiga : \")\n",
    "\n",
    "#code executed\n",
    "try:\n",
    "    a=int(var1)\n",
    "    b=int(var2)\n",
    "    c=int(var3)\n",
    "    print(\"%d, %d, %d\"%(a,b,c))\n",
    "    if (a and b and c) != 0:\n",
    "        if a==b==c:\n",
    "            print(\"SEMUA SAMA\")\n",
    "        elif a==b or a==c or b==c :\n",
    "            print(\"2 SISI SAMA\")\n",
    "        else:\n",
    "            print(\"TIDAK ADA YANG SAMA\")\n",
    "    else:\n",
    "        print(\"Sisi segitiga harus lebih dari nol\")\n",
    "#kecuali\n",
    "except:\n",
    "    print(\"INVALID INPUT!!!\")"
   ]
  }
 ],
 "metadata": {
  "kernelspec": {
   "display_name": "Python 3",
   "language": "python",
   "name": "python3"
  },
  "language_info": {
   "codemirror_mode": {
    "name": "ipython",
    "version": 3
   },
   "file_extension": ".py",
   "mimetype": "text/x-python",
   "name": "python",
   "nbconvert_exporter": "python",
   "pygments_lexer": "ipython3",
   "version": "3.11.1"
  }
 },
 "nbformat": 4,
 "nbformat_minor": 2
}
