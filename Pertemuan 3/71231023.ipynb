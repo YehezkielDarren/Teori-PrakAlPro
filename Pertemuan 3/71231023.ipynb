{
 "cells": [
  {
   "cell_type": "markdown",
   "metadata": {},
   "source": [
    "1. Soal 1"
   ]
  },
  {
   "cell_type": "code",
   "execution_count": null,
   "metadata": {},
   "outputs": [],
   "source": [
    "#Demam atau Tidak\n",
    "fever= input(\"Your Temperature : \")\n",
    "try :\n",
    "    fever_ = int(fever)\n",
    "    print(\"You get fever\") if fever_ >= 38 else print(\"You'r Normal\")\n",
    "except:\n",
    "    print(\"ERROR: INVALID INPUT!!!\")"
   ]
  },
  {
   "cell_type": "code",
   "execution_count": null,
   "metadata": {},
   "outputs": [],
   "source": [
    "#Positif/Negatif\n",
    "Z = (input(\"Input an Integer : \"))\n",
    "try:\n",
    "    z =int(Z)\n",
    "    print(\"Number : %d \" %z)\n",
    "    print(\"Positive Integer\") if z>0 else print(\"Negative Integer\")\n",
    "except:\n",
    "    print(\"Not an Integer!!!\")"
   ]
  },
  {
   "cell_type": "code",
   "execution_count": null,
   "metadata": {},
   "outputs": [],
   "source": [
    "#Nilai Terbesar\n"
   ]
  },
  {
   "cell_type": "markdown",
   "metadata": {},
   "source": [
    "2. soal 2 (ternary operator)"
   ]
  },
  {
   "cell_type": "code",
   "execution_count": 10,
   "metadata": {},
   "outputs": [
    {
     "name": "stdout",
     "output_type": "stream",
     "text": [
      "Positive or Negative Integers\n",
      "Number : 0 \n",
      "Negative Integer\n",
      "NOL\n"
     ]
    }
   ],
   "source": [
    "print(\"Positive or Negative Integers\")\n",
    "\n",
    "Z = int(input(\"Input an Integer : \"))\n",
    "print(\"Number : %d \" %Z)\n",
    "print(\"Positive Integer\") if Z>0 and Z!=0 else print(\"Negative Integer\")\n",
    "print(\"NOL\") if Z ==0 else 0"
   ]
  },
  {
   "cell_type": "markdown",
   "metadata": {},
   "source": [
    "3. soal 3"
   ]
  },
  {
   "cell_type": "code",
   "execution_count": 3,
   "metadata": {},
   "outputs": [
    {
     "name": "stdout",
     "output_type": "stream",
     "text": [
      "This Month has 29 days\n"
     ]
    }
   ],
   "source": [
    "print(\"Calender of 2020\")\n",
    "month=int(input(\"Input Number of Month (1-12) : \"))\n",
    "if month%2!=0 or month==8:\n",
    "    print(\"This Month has 31 days\")\n",
    "elif month!=2 and month%2==0:\n",
    "    print(\"This Month has 30 days\")\n",
    "elif month==2 :\n",
    "    print(\"This Month has 29 days\")\n",
    "else:\n",
    "    print(\"INVALID INPUT!! TRY AGAIN\")\n",
    "    \n",
    "        \n"
   ]
  }
 ],
 "metadata": {
  "kernelspec": {
   "display_name": "Python 3",
   "language": "python",
   "name": "python3"
  },
  "language_info": {
   "codemirror_mode": {
    "name": "ipython",
    "version": 3
   },
   "file_extension": ".py",
   "mimetype": "text/x-python",
   "name": "python",
   "nbconvert_exporter": "python",
   "pygments_lexer": "ipython3",
   "version": "3.10.11"
  }
 },
 "nbformat": 4,
 "nbformat_minor": 2
}
