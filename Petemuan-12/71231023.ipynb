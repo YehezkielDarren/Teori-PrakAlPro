  {
   "cell_type": "markdown",
   "metadata": {},
   "source": [
    "Soal 11.2"
   ]
  },
  {
   "cell_type": "code",
   "execution_count": null,
   "metadata": {},
   "outputs": [],
   "source": [
    "data=('Yehezkiel Darren Putra Wardoyo', '71231023', 'Sleman, DI.Yogyakarta')\n",
    "nim=data[1]\n",
    "nama=data[0]\n",
    "alamat=data[2]\n",
    "print(\"NIM\\t\\t: \",nim)\n",
    "print(\"NAMA\\t\\t: \",nama)\n",
    "print(\"ALAMAT\\t\\t: \",alamat)\n",
    "print()\n",
    "nama=nama.split()\n",
    "print(\"NIM\\t\\t: \", tuple(nim))\n",
    "print(\"Nama Depan\\t: \", tuple(nama[0]))\n",
    "print(\"NIM\\t\\t: \", tuple(nama[-1::-1]))"
   ]
  },
  {
   "cell_type": "markdown",
   "metadata": {},
   "source": [
    "Soal 11.3"
   ]
  },
  {
   "cell_type": "code",
   "execution_count": null,
   "metadata": {},
   "outputs": [],
   "source": [
    "nama_file=input(\"Masukkan nama file : \")\n",
    "try :\n",
    "    with open(nama_file) as f:\n",
    "        handle=f.readlines()\n",
    "except FileNotFoundError:\n",
    "    print(\"File Not Found \", nama_file)\n",
    "dictionary=dict()\n",
    "for keys in handle:\n",
    "    if keys.startswith(\"From \"):\n",
    "        jam=keys.split()[5].split(\":\")[0]\n",
    "        dictionary[jam]=dictionary.get(jam,0)+1\n",
    "dist_jam=list()\n",
    "for hour,i in dictionary.items():\n",
    "    dist_jam.append((hour,i))\n",
    "dist_jam.sort()\n",
    "for hour,i in dist_jam:\n",
    "    print(hour,i)"
   ]
  }
 ],
 "metadata": {
  "language_info": {
   "name": "python"
  }
 },
 "nbformat": 4,
 "nbformat_minor": 2
}
