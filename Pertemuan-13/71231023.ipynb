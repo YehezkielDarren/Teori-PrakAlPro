{
 "cells": [
  {
   "cell_type": "markdown",
   "metadata": {},
   "source": [
    "Soal 1"
   ]
  },
  {
   "cell_type": "code",
   "execution_count": 7,
   "metadata": {},
   "outputs": [
    {
     "name": "stdout",
     "output_type": "stream",
     "text": [
      "Finance : {'IPOT', 'RTI Saham', 'Poems', 'Mirae'}\n",
      "Utilities : {'Photos', 'Camera', 'Weather', 'Notes'}\n"
     ]
    }
   ],
   "source": [
    "n=int(input(\"Masukkan Jumlah Kagetori : \"))\n",
    "dict_aplikasi={}\n",
    "for i in range(n):\n",
    "    kategori=input(f\"Masukkan Nama Kategori ke-{i+1} : \")\n",
    "    data_apl=[]\n",
    "    for i in range(5):\n",
    "        nama_aplks=input(f\"Masukkan Nama Aplikasi di {kategori}: \")\n",
    "        data_apl.append(nama_aplks)\n",
    "    dict_aplikasi[kategori]=set(data_apl)\n",
    "listTuple=list()\n",
    "for key,val in dict_aplikasi.items():\n",
    "    listTuple.append((key, val))\n",
    "if n==2:\n",
    "    for i in range(len(listTuple)):\n",
    "        print(f\"{listTuple[i][0]} : {listTuple[i][1]-listTuple[(i+1)%len(listTuple)][1]}\")\n",
    "elif n>2:\n",
    "    for i in range(len(listTuple)):\n",
    "        print(f\"{listTuple[i][0]} : {listTuple[i][1]^listTuple[(i+1)%len(listTuple)][1]}\")"
   ]
  },
  {
   "cell_type": "markdown",
   "metadata": {},
   "source": [
    "Soal 2"
   ]
  },
  {
   "cell_type": "code",
   "execution_count": 3,
   "metadata": {},
   "outputs": [
    {
     "name": "stdout",
     "output_type": "stream",
     "text": [
      "Dalam List :  [1, 3, 2, 6, 8, 6, 3, 0, 10]\n",
      "Konversi ke Set :  {0, 1, 2, 3, 6, 8, 10}\n",
      "\n",
      "Dalam Set :  {0, 1, 2, 3, 6, 8, 10}\n",
      "Konversi ke List :  [0, 1, 2, 3, 6, 8, 10]\n",
      "\n",
      "Dalam Tuple :  (1, 3, 2, 6, 8, 6, 3, 0, 10)\n",
      "Konversi ke Set :  {0, 1, 2, 3, 6, 8, 10}\n",
      "\n",
      "Dalam Set :  {0, 1, 2, 3, 6, 8, 10}\n",
      "Konversi ke Tuple :  (0, 1, 2, 3, 6, 8, 10)\n"
     ]
    }
   ],
   "source": [
    "#list menjadi set\n",
    "ini_list=[1,3,2,6,8,6,3,0,10]\n",
    "print(\"Dalam List : \",ini_list) # sebelum\n",
    "print(\"Konversi ke Set : \",set(ini_list)) # sesudah di konversi menjadi set\n",
    "print()\n",
    "#Set menjadi list\n",
    "ini_set={1,3,2,6,8,6,3,0,10}\n",
    "print(\"Dalam Set : \",ini_set)\n",
    "print(\"Konversi ke List : \",list(ini_set))\n",
    "print()\n",
    "#Tuple menjadi set\n",
    "ini_tuple=(1,3,2,6,8,6,3,0,10)\n",
    "print(\"Dalam Tuple : \", ini_tuple)\n",
    "print(\"Konversi ke Set : \",set(ini_tuple))\n",
    "print()\n",
    "#Set menjadi Tuple\n",
    "ini_set2={1,3,2,6,8,6,3,0,10}\n",
    "print(\"Dalam Set : \",ini_set2)\n",
    "print(\"Konversi ke Tuple : \",tuple(ini_set2))\n"
   ]
  },
  {
   "cell_type": "markdown",
   "metadata": {},
   "source": [
    "Soal 3"
   ]
  },
  {
   "cell_type": "code",
   "execution_count": 8,
   "metadata": {},
   "outputs": [
    {
     "data": {
      "text/plain": [
       "\"Kata yang muncul di kedua teks : {'moon', 'what', 'the', 'window', 'breaks', 'pale', 'juliet', 'already', 'is', 'kill', 'who', 'envious', 'east', 'soft', 'fair', 'with', 'through', 'yonder', 'sun', 'but', 'grief', 'light', 'and', 'sick', 'it', 'arise'}\""
      ]
     },
     "execution_count": 8,
     "metadata": {},
     "output_type": "execute_result"
    }
   ],
   "source": [
    "import string\n",
    "def ambilKataFile(list_namaFile):\n",
    "    kata_muncul=list()\n",
    "    for namaFile in list_namaFile:\n",
    "        try:\n",
    "            with open(namaFile) as f:\n",
    "                handle=f.readlines()\n",
    "        except FileNotFoundError:\n",
    "            return f\"File Not Found, {namaFile}\"\n",
    "        kata_muncul1=set()\n",
    "        for line in handle:\n",
    "            words=line.translate(str.maketrans(\"\",\"\",string.punctuation)).lower().split()\n",
    "            for word in words:\n",
    "                kata_muncul1.add(word)\n",
    "        kata_muncul.append(kata_muncul1)\n",
    "    return f\"Kata yang muncul di kedua teks : {kata_muncul[0]&kata_muncul[1]}\"\n",
    "            \n",
    "FileName_list=[]\n",
    "for i in range(2):\n",
    "    namaFile=input(\"Masukkan Nama File : \")\n",
    "    FileName_list.append(namaFile)\n",
    "ambilKataFile(FileName_list)"
   ]
  }
 ],
 "metadata": {
  "kernelspec": {
   "display_name": "Python 3",
   "language": "python",
   "name": "python3"
  },
  "language_info": {
   "codemirror_mode": {
    "name": "ipython",
    "version": 3
   },
   "file_extension": ".py",
   "mimetype": "text/x-python",
   "name": "python",
   "nbconvert_exporter": "python",
   "pygments_lexer": "ipython3",
   "version": "3.11.1"
  }
 },
 "nbformat": 4,
 "nbformat_minor": 2
}
